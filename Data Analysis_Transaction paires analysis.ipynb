{
 "cells": [
  {
   "cell_type": "code",
   "execution_count": 1,
   "id": "4dbb3d07",
   "metadata": {},
   "outputs": [],
   "source": [
    "import numpy as np\n",
    "import pandas as pd\n",
    "from pymongo import MongoClient\n",
    "import mysql.connector\n",
    "from datetime import datetime\n",
    "import requests\n",
    "import json"
   ]
  },
  {
   "cell_type": "markdown",
   "id": "87b5eccf",
   "metadata": {},
   "source": [
    "# Data Analysis Using MongoDB"
   ]
  },
  {
   "cell_type": "markdown",
   "id": "250d6b2a",
   "metadata": {},
   "source": [
    "## Connect to Database"
   ]
  },
  {
   "cell_type": "code",
   "execution_count": 2,
   "id": "6386d06f",
   "metadata": {},
   "outputs": [],
   "source": [
    "# # MongoDB setup\n",
    "transaction = MongoClient('mongodb://localhost:27017/')\n",
    "\n",
    "# Connect to your database\n",
    "db = transaction['Coinut']\n",
    "\n",
    "# MySQL setup\n",
    "mysql_db = mysql.connector.connect(\n",
    "  user='root', password='liuwinq1', host='localhost', database='coinut')\n",
    "mysql_cursor = mysql_db.cursor()"
   ]
  },
  {
   "cell_type": "markdown",
   "id": "53f90d39",
   "metadata": {},
   "source": [
    "## Fetch Data"
   ]
  },
  {
   "cell_type": "code",
   "execution_count": 3,
   "id": "a830e806",
   "metadata": {},
   "outputs": [],
   "source": [
    "# Select the collection from the database\n",
    "collection = db['transaction']\n",
    "\n",
    "# Fetch all doc data\n",
    "data1 = collection.find()"
   ]
  },
  {
   "cell_type": "code",
   "execution_count": 4,
   "id": "e61dea2a",
   "metadata": {
    "scrolled": true
   },
   "outputs": [
    {
     "name": "stdout",
     "output_type": "stream",
     "text": [
      "Number of transactions: 119544\n"
     ]
    }
   ],
   "source": [
    "# Count the number of documents\n",
    "num_transactions = collection.count_documents({})\n",
    "print(f\"Number of transactions: {num_transactions}\")"
   ]
  },
  {
   "cell_type": "markdown",
   "id": "c866c651",
   "metadata": {},
   "source": [
    "# Prepare dictionary"
   ]
  },
  {
   "cell_type": "markdown",
   "id": "78653efa",
   "metadata": {},
   "source": [
    "### Currency dictionary"
   ]
  },
  {
   "cell_type": "code",
   "execution_count": 5,
   "id": "f307646d",
   "metadata": {},
   "outputs": [],
   "source": [
    "# Define the index to currency mapping\n",
    "currency_index = {\n",
    "    0: 'BTC', 1: 'USD', 2: 'LTC', 3: 'ETH', 4: 'ETC', 5: 'USDT', 6: 'XMR', 7: 'BCH', 8: 'BTG', 9: 'B2X', \n",
    "    10: 'SBTC', 11: 'SGD', 12: 'CAD', 13: 'EUR', 14: 'NTD', 15: 'JPY', 16: 'GBP', 17: 'LCH', 18: 'CHF', \n",
    "    19: 'ZEC', 20: 'ADA', 21: 'MYR', 22: 'DAI', 23: 'XSGD', 24: 'XIDR'}"
   ]
  },
  {
   "cell_type": "markdown",
   "id": "17b7eeb3",
   "metadata": {},
   "source": [
    "### Currency_pair dictionary"
   ]
  },
  {
   "cell_type": "code",
   "execution_count": 6,
   "id": "520c7c87",
   "metadata": {},
   "outputs": [],
   "source": [
    "# API endpoint URL\n",
    "url = 'https://api.coinut.com/spot'\n",
    "\n",
    "# Send a GET request to the API\n",
    "response = requests.get(url)\n",
    "\n",
    "# Check if the request was successful (status code 200)\n",
    "if response.status_code == 200:\n",
    "    # Get the JSON data from the response\n",
    "    data = response.json()\n",
    "    \n",
    "# Initialize an empty dictionary to store the values\n",
    "pair_dic = {}\n",
    "\n",
    "# Iterate over the data\n",
    "for item in data:\n",
    "    asset = item['asset']\n",
    "    inst_id = item['inst_id']\n",
    "    \n",
    "    # Add the values to the dictionary with asset as the key\n",
    "    pair_dic[inst_id] = asset\n"
   ]
  },
  {
   "cell_type": "code",
   "execution_count": 7,
   "id": "6b1ea3be",
   "metadata": {},
   "outputs": [],
   "source": [
    "old_dic={}\n",
    "# Open the JSON file\n",
    "with open('oldAPI.json') as file:\n",
    "    data2 = json.load(file)\n",
    "\n",
    "# Iterate over the data\n",
    "for item in data2:\n",
    "    asset = item['asset']\n",
    "    inst_id = item['inst_id']\n",
    "    \n",
    "    # Add the values to the dictionary with asset as the key\n",
    "    old_dic[inst_id] = asset"
   ]
  },
  {
   "cell_type": "code",
   "execution_count": 8,
   "id": "7171a120",
   "metadata": {
    "scrolled": true
   },
   "outputs": [
    {
     "name": "stdout",
     "output_type": "stream",
     "text": [
      "{1: 'LTCBTC', 2: 'ETHBTC', 3: 'ETCBTC', 490569: 'ETHLTC', 490588: 'ETCLTC', 490589: 'BTCUSDT', 490590: 'LTCUSDT', 490591: 'ETHUSDT', 490592: 'ETCUSDT', 852382: 'XMRUSDT', 852383: 'XMRBTC', 852384: 'XMRLTC', 1111976: 'ZECUSDT', 1111977: 'ZECBTC', 1111978: 'ZECLTC', 1801843: 'BTCCAD', 1801844: 'LTCCAD', 1801845: 'ETHCAD', 1885998: 'ZECCAD', 2372505: 'BTCXSGD', 2372506: 'LTCXSGD', 2372507: 'ETHXSGD', 2372508: 'USDTXSGD', 2372510: 'DAIXSGD', 2372511: 'ETCXSGD', 2372512: 'BTCXIDR', 852220: 'USDTUSD', 852234: 'LTCUSD', 852379: 'BTCUSD', 852380: 'BTCSGD', 852381: 'LTCSGD', 899746: 'USDTSGD', 1063804: 'ETHSGD', 1885996: 'ZECUSD', 1885999: 'ETHUSD', 2372503: 'ETCSGD', 2372504: 'DAISGD', 2372509: 'XSGDSGD'}\n",
      "{1: 'LTC, BTC', 2: 'ETH, BTC', 3: 'ETC, BTC', 490569: 'ETH, LTC', 490588: 'ETC, LTC', 490589: 'BTC, USDT', 490590: 'LTC, USDT', 490591: 'ETH, USDT', 490592: 'ETC, USDT', 852382: 'XMR, USDT', 852383: 'XMR, BTC', 852384: 'XMR, LTC', 1111976: 'ZEC, USDT', 1111977: 'ZEC, BTC', 1111978: 'ZEC, LTC', 1801843: 'BTC, CAD', 1801844: 'LTC, CAD', 1801845: 'ETH, CAD', 1885998: 'ZEC, CAD', 2372505: 'BTC, XSGD', 2372506: 'LTC, XSGD', 2372507: 'ETH, XSGD', 2372508: 'USDT, XSGD', 2372510: 'DAI, XSGD', 2372511: 'ETC, XSGD', 2372512: 'BTC, XIDR', 852220: 'USDT, USD', 852234: 'LTC, USD', 852379: 'BTC, USD', 852380: 'BTC, SGD', 852381: 'LTC, SGD', 899746: 'USDT, SGD', 1063804: 'ETH, SGD', 1885996: 'ZEC, USD', 1885999: 'ETH, USD', 2372503: 'ETC, SGD', 2372504: 'DAI, SGD', 2372509: 'XSGD, SGD'}\n"
     ]
    }
   ],
   "source": [
    "# Merge the dictionaries\n",
    "pair_dic.update(old_dic)\n",
    "\n",
    "print (pair_dic)\n",
    "# Initialize a new dictionary to store the split pairs\n",
    "split_index_dic = {}\n",
    "\n",
    "# For each pair in the original dictionary\n",
    "for pair_id, pair in pair_dic.items():\n",
    "    # Determine the split index based on the length of the pair string\n",
    "    if len(pair) in [6, 8]:\n",
    "        split_index = len(pair) // 2\n",
    "    else: # len(pair) == 7\n",
    "        split_index = 3\n",
    "        # If the second half of the pair is not in the list of currencies, change the split index\n",
    "        if pair[split_index:] not in currency_index.values():\n",
    "            split_index = 4\n",
    "\n",
    "    # Split the pair string at the split index\n",
    "    first_currency = pair[:split_index]\n",
    "    second_currency = pair[split_index:]\n",
    "\n",
    "    # Add the split pair to the dictionary, joined by a comma\n",
    "    split_index_dic[pair_id] = ', '.join([first_currency, second_currency])\n",
    "\n",
    "print(split_index_dic)\n",
    "\n"
   ]
  },
  {
   "cell_type": "markdown",
   "id": "45bf0d66",
   "metadata": {},
   "source": [
    "### Daily_price dictionary"
   ]
  },
  {
   "cell_type": "code",
   "execution_count": 9,
   "id": "28867a7f",
   "metadata": {
    "scrolled": true
   },
   "outputs": [],
   "source": [
    "daily_price_dict={}\n",
    "\n",
    "mysql_cursor.execute(\"SELECT * FROM price\")\n",
    "rows = mysql_cursor.fetchall()\n",
    "columns = [column[0] for column in mysql_cursor.description]\n",
    " \n",
    "for row in rows:\n",
    "    row_dict = dict(zip(columns, row))\n",
    "    date = row_dict['time'].strftime('%Y-%m-%d')\n",
    "    daily_price_dict[date] = {currency: row_dict[currency] for currency in columns if currency != 'time' and currency != 'id'}"
   ]
  },
  {
   "cell_type": "markdown",
   "id": "f4a1a735",
   "metadata": {},
   "source": [
    "## Transaction Paires Analysis"
   ]
  },
  {
   "cell_type": "code",
   "execution_count": 11,
   "id": "2aea9966",
   "metadata": {
    "scrolled": false
   },
   "outputs": [
    {
     "name": "stdout",
     "output_type": "stream",
     "text": [
      "Pair: LTC, USDT, Count: 63237, LTC: 23915.26, USDT: 1569842.06, Total SGD: 2175495.74\n",
      "Pair: ETH, XSGD, Count: 1323, ETH: 331.84, XSGD: 859274.85, Total SGD: 857182.26\n",
      "Pair: BTC, XSGD, Count: 2778, BTC: 36.08, XSGD: 1340458.01, Total SGD: 1423655.20\n",
      "Pair: ZEC, LTC, Count: 1170, ZEC: 6.50, LTC: 7.89, Total SGD: 1020.36\n",
      "Pair: ETH, LTC, Count: 782, ETH: 2.11, LTC: 48.66, Total SGD: 6751.81\n",
      "Pair: ETC, LTC, Count: 11890, ETC: 283.93, LTC: 82.32, Total SGD: 8477.32\n",
      "Pair: XMR, USDT, Count: 3375, XMR: 216.16, USDT: 41943.87, Total SGD: 57009.79\n",
      "Pair: USDT, XSGD, Count: 4522, USDT: 3718059.37, XSGD: 5056328.39, Total SGD: 5057418.87\n",
      "Pair: LTC, XSGD, Count: 779, LTC: 1787.02, XSGD: 203744.84, Total SGD: 203502.15\n",
      "Pair: ETH, USDT, Count: 5122, ETH: 318.73, USDT: 865657.62, Total SGD: 1174732.68\n",
      "Pair: ZEC, USDT, Count: 2111, ZEC: 283.12, USDT: 34812.82, Total SGD: 47599.03\n",
      "Pair: ETC, USDT, Count: 3340, ETC: 3211.60, USDT: 81117.41, Total SGD: 110234.43\n",
      "Pair: BTC, USDT, Count: 3844, BTC: 31.02, USDT: 746222.88, Total SGD: 1017923.94\n",
      "Pair: LTC, BTC, Count: 1240, LTC: 738.19, BTC: 2.23, Total SGD: 94611.68\n",
      "Pair: ETH, BTC, Count: 124, ETH: 18.27, BTC: 1.26, Total SGD: 37961.54\n",
      "Pair: DAI, XSGD, Count: 133, DAI: 32348.92, XSGD: 43986.34, Total SGD: 44148.46\n",
      "Pair: ETC, XSGD, Count: 381, ETC: 6705.82, XSGD: 330100.90, Total SGD: 325773.99\n",
      "Pair: XMR, LTC, Count: 403, XMR: 3.90, LTC: 9.69, Total SGD: 1331.99\n",
      "Pair: XMR, BTC, Count: 26, XMR: 0.87, BTC: 0.01, Total SGD: 176.95\n",
      "Pair: ETC, BTC, Count: 164, ETC: 238.18, BTC: 0.17, Total SGD: 6479.20\n",
      "Pair: ZEC, BTC, Count: 41, ZEC: 6.27, BTC: 0.02, Total SGD: 641.48\n",
      "Pair: BTC, XIDR, Count: 389, BTC: 6.74, XIDR: 1825824370.60, Total SGD: 154931.70\n",
      "Pair: USDT, USD, Count: 8681, USDT: 66370.30, USD: 66387.16, Total SGD: 90291.95\n",
      "Pair: LTC, USD, Count: 3386, LTC: 381.50, USD: 36782.93, Total SGD: 50352.03\n",
      "Pair: BTC, USD, Count: 162, BTC: 0.03, USD: 815.71, Total SGD: 1158.68\n",
      "Pair: ZEC, USD, Count: 80, ZEC: 3.36, USD: 523.19, Total SGD: 709.42\n",
      "Pair: ETH, USD, Count: 60, ETH: 1.28, USD: 2150.50, Total SGD: 2888.29\n",
      "Total transactions processed: 119543\n"
     ]
    }
   ],
   "source": [
    "# Initialize a dictionary to store the counts and amounts\n",
    "transaction_details = {}\n",
    "transaction_totals = {}  # Stores total transaction value in SGD for each pair\n",
    "\n",
    "# Initialize transaction counter\n",
    "transaction_counter = 0\n",
    "\n",
    "# Iterate over the transactions\n",
    "for transaction in data1:\n",
    "    inst_id = transaction['order']['instId']\n",
    "    pair = split_index_dic.get(inst_id, None)\n",
    "    \n",
    "    \n",
    "    if pair:\n",
    "        # Split the currency pair\n",
    "        first_currency, second_currency = pair.split(', ')\n",
    "\n",
    "        # Calculate the amounts\n",
    "        first_currency_amount = float(transaction['fillQty'])\n",
    "        second_currency_amount = float(transaction['fillPrice']) * float(transaction['fillQty'])\n",
    "\n",
    "        # If the pair is not yet in the dictionary, add it with the count and amounts\n",
    "        if pair not in transaction_details:\n",
    "            transaction_details[pair] = {'Count': 1, first_currency: first_currency_amount, second_currency: second_currency_amount}\n",
    "        else:\n",
    "            # If the pair is already in the dictionary, increment the count and add the amounts\n",
    "            transaction_details[pair]['Count'] += 1\n",
    "            transaction_details[pair][first_currency] += first_currency_amount\n",
    "            transaction_details[pair][second_currency] += second_currency_amount\n",
    "            \n",
    "       \n",
    "       # Convert timestamp to datetime format\n",
    "        timestamp = transaction['timestamp']\n",
    "        dt = datetime.utcfromtimestamp(int(timestamp) / 1e6).strftime('%Y-%m-%d %H:%M:%S.%f')\n",
    "        dt_date = dt.split()[0]  # get the date part\n",
    "        \n",
    "        \n",
    "        # Initialize fill_qty and base_currency_price\n",
    "        fill_qty = 0\n",
    "        base_currency_price = 0\n",
    "        sgd_price=0\n",
    "        \n",
    "        # Check if we have price data for this date\n",
    "        daily_prices = daily_price_dict.get(dt_date, {})\n",
    "\n",
    "        # Check if we have price data for this date\n",
    "        if dt_date in daily_price_dict and first_currency in daily_price_dict[dt_date]:\n",
    "            base_currency_price = daily_price_dict[dt_date][first_currency]\n",
    "            fill_qty = first_currency_amount  # Using first_currency_amount instead of getting from transaction again\n",
    "        \n",
    "        # Check if we have sgd_price for this date, if not or if it's zero, use 0.74\n",
    "        sgd_price = daily_prices.get('SGD', 0.74) if daily_prices.get('SGD', 0) != 0 else 0.74\n",
    "\n",
    "        # Calculate the transaction value in SGD\n",
    "        transaction_value_sgd = fill_qty *  (float(base_currency_price)/float(sgd_price))\n",
    "\n",
    "        # Add the transaction value to the transaction document\n",
    "        transaction['transaction_value_sgd'] = transaction_value_sgd\n",
    "        \n",
    "        # Increment transaction counter\n",
    "        transaction_counter += 1\n",
    "        \n",
    "        # Update the total for the pair\n",
    "        if pair in transaction_totals:\n",
    "            transaction_totals[pair] += transaction_value_sgd\n",
    "        else:\n",
    "            transaction_totals[pair] = transaction_value_sgd\n",
    "\n",
    "\n",
    "        \n",
    "\n",
    "\n",
    " # Print the transaction details\n",
    "for pair, details in transaction_details.items():\n",
    "   # Split the currency pair\n",
    "    first_currency, second_currency = pair.split(', ')\n",
    "\n",
    "        \n",
    "    print(f'Pair: {pair}, Count: {details[\"Count\"]}, {first_currency}: {details[first_currency]:.2f}, {second_currency}: {details[second_currency]:.2f}, Total SGD: {transaction_totals[pair]:.2f}')\n",
    "\n",
    "# Print the transaction counter\n",
    "print(f'Total transactions processed: {transaction_counter}')"
   ]
  },
  {
   "cell_type": "markdown",
   "id": "85100f38",
   "metadata": {},
   "source": [
    "# Sort by Total SGD"
   ]
  },
  {
   "cell_type": "code",
   "execution_count": 12,
   "id": "ae3e9120",
   "metadata": {
    "scrolled": false
   },
   "outputs": [
    {
     "name": "stdout",
     "output_type": "stream",
     "text": [
      "Pair: USDT, XSGD, Count: 4522, USDT: 3718059.37, XSGD: 5056328.39, Total SGD: 5057418.87\n",
      "Pair: LTC, USDT, Count: 63237, LTC: 23915.26, USDT: 1569842.06, Total SGD: 2175495.74\n",
      "Pair: BTC, XSGD, Count: 2778, BTC: 36.08, XSGD: 1340458.01, Total SGD: 1423655.20\n",
      "Pair: ETH, USDT, Count: 5122, ETH: 318.73, USDT: 865657.62, Total SGD: 1174732.68\n",
      "Pair: BTC, USDT, Count: 3844, BTC: 31.02, USDT: 746222.88, Total SGD: 1017923.94\n",
      "Pair: ETH, XSGD, Count: 1323, ETH: 331.84, XSGD: 859274.85, Total SGD: 857182.26\n",
      "Pair: ETC, XSGD, Count: 381, ETC: 6705.82, XSGD: 330100.90, Total SGD: 325773.99\n",
      "Pair: LTC, XSGD, Count: 779, LTC: 1787.02, XSGD: 203744.84, Total SGD: 203502.15\n",
      "Pair: BTC, XIDR, Count: 389, BTC: 6.74, XIDR: 1825824370.60, Total SGD: 154931.70\n",
      "Pair: ETC, USDT, Count: 3340, ETC: 3211.60, USDT: 81117.41, Total SGD: 110234.43\n",
      "Pair: LTC, BTC, Count: 1240, LTC: 738.19, BTC: 2.23, Total SGD: 94611.68\n",
      "Pair: USDT, USD, Count: 8681, USDT: 66370.30, USD: 66387.16, Total SGD: 90291.95\n",
      "Pair: XMR, USDT, Count: 3375, XMR: 216.16, USDT: 41943.87, Total SGD: 57009.79\n",
      "Pair: LTC, USD, Count: 3386, LTC: 381.50, USD: 36782.93, Total SGD: 50352.03\n",
      "Pair: ZEC, USDT, Count: 2111, ZEC: 283.12, USDT: 34812.82, Total SGD: 47599.03\n",
      "Pair: DAI, XSGD, Count: 133, DAI: 32348.92, XSGD: 43986.34, Total SGD: 44148.46\n",
      "Pair: ETH, BTC, Count: 124, ETH: 18.27, BTC: 1.26, Total SGD: 37961.54\n",
      "Pair: ETC, LTC, Count: 11890, ETC: 283.93, LTC: 82.32, Total SGD: 8477.32\n",
      "Pair: ETH, LTC, Count: 782, ETH: 2.11, LTC: 48.66, Total SGD: 6751.81\n",
      "Pair: ETC, BTC, Count: 164, ETC: 238.18, BTC: 0.17, Total SGD: 6479.20\n",
      "Pair: ETH, USD, Count: 60, ETH: 1.28, USD: 2150.50, Total SGD: 2888.29\n",
      "Pair: XMR, LTC, Count: 403, XMR: 3.90, LTC: 9.69, Total SGD: 1331.99\n",
      "Pair: BTC, USD, Count: 162, BTC: 0.03, USD: 815.71, Total SGD: 1158.68\n",
      "Pair: ZEC, LTC, Count: 1170, ZEC: 6.50, LTC: 7.89, Total SGD: 1020.36\n",
      "Pair: ZEC, USD, Count: 80, ZEC: 3.36, USD: 523.19, Total SGD: 709.42\n",
      "Pair: ZEC, BTC, Count: 41, ZEC: 6.27, BTC: 0.02, Total SGD: 641.48\n",
      "Pair: XMR, BTC, Count: 26, XMR: 0.87, BTC: 0.01, Total SGD: 176.95\n"
     ]
    }
   ],
   "source": [
    "# Create a list of dictionaries\n",
    "transaction_list = []\n",
    "for pair, details in transaction_details.items():\n",
    "    # Split the currency pair\n",
    "    first_currency, second_currency = pair.split(', ')\n",
    "\n",
    "    transaction_list.append({\n",
    "        'Pair': pair,\n",
    "        'Count': details[\"Count\"],\n",
    "        first_currency: details[first_currency],\n",
    "        second_currency: details[second_currency],\n",
    "        'Total SGD': transaction_totals[pair]\n",
    "    })\n",
    "\n",
    "# Sort the list of dictionaries by 'Total SGD' in descending order\n",
    "sorted_transaction_list = sorted(transaction_list, key=lambda x: x['Total SGD'], reverse=True)\n",
    "\n",
    "# Print the sorted transaction list\n",
    "for transaction in sorted_transaction_list:\n",
    "   # Split the currency pair\n",
    "    first_currency, second_currency = transaction['Pair'].split(', ')\n",
    "    \n",
    "    print(f\"Pair: {transaction['Pair']}, Count: {transaction['Count']}, {first_currency}: {transaction[first_currency]:.2f}, {second_currency}: {transaction[second_currency]:.2f}, Total SGD: {transaction['Total SGD']:.2f}\")"
   ]
  },
  {
   "cell_type": "markdown",
   "id": "ae7f4ea9",
   "metadata": {},
   "source": [
    "# Sort by Total Count"
   ]
  },
  {
   "cell_type": "code",
   "execution_count": 13,
   "id": "9cc12900",
   "metadata": {},
   "outputs": [
    {
     "name": "stdout",
     "output_type": "stream",
     "text": [
      "Pair: LTC, USDT, Count: 63237, LTC: 23915.26, USDT: 1569842.06, Total SGD: 2175495.74\n",
      "Pair: ETC, LTC, Count: 11890, ETC: 283.93, LTC: 82.32, Total SGD: 8477.32\n",
      "Pair: USDT, USD, Count: 8681, USDT: 66370.30, USD: 66387.16, Total SGD: 90291.95\n",
      "Pair: ETH, USDT, Count: 5122, ETH: 318.73, USDT: 865657.62, Total SGD: 1174732.68\n",
      "Pair: USDT, XSGD, Count: 4522, USDT: 3718059.37, XSGD: 5056328.39, Total SGD: 5057418.87\n",
      "Pair: BTC, USDT, Count: 3844, BTC: 31.02, USDT: 746222.88, Total SGD: 1017923.94\n",
      "Pair: LTC, USD, Count: 3386, LTC: 381.50, USD: 36782.93, Total SGD: 50352.03\n",
      "Pair: XMR, USDT, Count: 3375, XMR: 216.16, USDT: 41943.87, Total SGD: 57009.79\n",
      "Pair: ETC, USDT, Count: 3340, ETC: 3211.60, USDT: 81117.41, Total SGD: 110234.43\n",
      "Pair: BTC, XSGD, Count: 2778, BTC: 36.08, XSGD: 1340458.01, Total SGD: 1423655.20\n",
      "Pair: ZEC, USDT, Count: 2111, ZEC: 283.12, USDT: 34812.82, Total SGD: 47599.03\n",
      "Pair: ETH, XSGD, Count: 1323, ETH: 331.84, XSGD: 859274.85, Total SGD: 857182.26\n",
      "Pair: LTC, BTC, Count: 1240, LTC: 738.19, BTC: 2.23, Total SGD: 94611.68\n",
      "Pair: ZEC, LTC, Count: 1170, ZEC: 6.50, LTC: 7.89, Total SGD: 1020.36\n",
      "Pair: ETH, LTC, Count: 782, ETH: 2.11, LTC: 48.66, Total SGD: 6751.81\n",
      "Pair: LTC, XSGD, Count: 779, LTC: 1787.02, XSGD: 203744.84, Total SGD: 203502.15\n",
      "Pair: XMR, LTC, Count: 403, XMR: 3.90, LTC: 9.69, Total SGD: 1331.99\n",
      "Pair: BTC, XIDR, Count: 389, BTC: 6.74, XIDR: 1825824370.60, Total SGD: 154931.70\n",
      "Pair: ETC, XSGD, Count: 381, ETC: 6705.82, XSGD: 330100.90, Total SGD: 325773.99\n",
      "Pair: ETC, BTC, Count: 164, ETC: 238.18, BTC: 0.17, Total SGD: 6479.20\n",
      "Pair: BTC, USD, Count: 162, BTC: 0.03, USD: 815.71, Total SGD: 1158.68\n",
      "Pair: DAI, XSGD, Count: 133, DAI: 32348.92, XSGD: 43986.34, Total SGD: 44148.46\n",
      "Pair: ETH, BTC, Count: 124, ETH: 18.27, BTC: 1.26, Total SGD: 37961.54\n",
      "Pair: ZEC, USD, Count: 80, ZEC: 3.36, USD: 523.19, Total SGD: 709.42\n",
      "Pair: ETH, USD, Count: 60, ETH: 1.28, USD: 2150.50, Total SGD: 2888.29\n",
      "Pair: ZEC, BTC, Count: 41, ZEC: 6.27, BTC: 0.02, Total SGD: 641.48\n",
      "Pair: XMR, BTC, Count: 26, XMR: 0.87, BTC: 0.01, Total SGD: 176.95\n"
     ]
    }
   ],
   "source": [
    "# Sort the list of dictionaries by 'Total SGD' in descending order\n",
    "sorted_transaction_list = sorted(transaction_list, key=lambda x: x['Count'], reverse=True)\n",
    "\n",
    "# Print the sorted transaction list\n",
    "for transaction in sorted_transaction_list:\n",
    "   # Split the currency pair\n",
    "    first_currency, second_currency = transaction['Pair'].split(', ')\n",
    "    \n",
    "    print(f\"Pair: {transaction['Pair']}, Count: {transaction['Count']}, {first_currency}: {transaction[first_currency]:.2f}, {second_currency}: {transaction[second_currency]:.2f}, Total SGD: {transaction['Total SGD']:.2f}\")"
   ]
  }
 ],
 "metadata": {
  "kernelspec": {
   "display_name": "Python 3 (ipykernel)",
   "language": "python",
   "name": "python3"
  },
  "language_info": {
   "codemirror_mode": {
    "name": "ipython",
    "version": 3
   },
   "file_extension": ".py",
   "mimetype": "text/x-python",
   "name": "python",
   "nbconvert_exporter": "python",
   "pygments_lexer": "ipython3",
   "version": "3.9.13"
  }
 },
 "nbformat": 4,
 "nbformat_minor": 5
}
