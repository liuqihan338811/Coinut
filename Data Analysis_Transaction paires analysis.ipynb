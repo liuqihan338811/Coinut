{
 "cells": [
  {
   "cell_type": "code",
   "execution_count": 1,
   "id": "4dbb3d07",
   "metadata": {},
   "outputs": [],
   "source": [
    "import numpy as np\n",
    "import pandas as pd\n",
    "from pymongo import MongoClient\n",
    "import mysql.connector\n",
    "from datetime import datetime\n",
    "import requests"
   ]
  },
  {
   "cell_type": "markdown",
   "id": "87b5eccf",
   "metadata": {},
   "source": [
    "# Data Analysis Using MongoDB"
   ]
  },
  {
   "cell_type": "markdown",
   "id": "250d6b2a",
   "metadata": {},
   "source": [
    "## Connect to Database"
   ]
  },
  {
   "cell_type": "code",
   "execution_count": 2,
   "id": "6386d06f",
   "metadata": {},
   "outputs": [],
   "source": [
    "# # MongoDB setup\n",
    "transaction = MongoClient('mongodb://localhost:27017/')\n",
    "\n",
    "# Connect to your database\n",
    "db = transaction['Coinut']\n",
    "\n",
    "# MySQL setup\n",
    "mysql_db = mysql.connector.connect(\n",
    "  user='root', password='liuwinq1', host='localhost', database='coinut')\n",
    "mysql_cursor = mysql_db.cursor()"
   ]
  },
  {
   "cell_type": "markdown",
   "id": "53f90d39",
   "metadata": {},
   "source": [
    "## Fetch Data"
   ]
  },
  {
   "cell_type": "code",
   "execution_count": 3,
   "id": "a830e806",
   "metadata": {},
   "outputs": [],
   "source": [
    "# Select the collection from the database\n",
    "collection = db['transaction']\n",
    "\n",
    "# Fetch all doc data\n",
    "data1 = collection.find()"
   ]
  },
  {
   "cell_type": "code",
   "execution_count": 4,
   "id": "e61dea2a",
   "metadata": {
    "scrolled": true
   },
   "outputs": [
    {
     "name": "stdout",
     "output_type": "stream",
     "text": [
      "Number of transactions: 119544\n"
     ]
    }
   ],
   "source": [
    "# Count the number of documents\n",
    "num_transactions = collection.count_documents({})\n",
    "print(f\"Number of transactions: {num_transactions}\")"
   ]
  },
  {
   "cell_type": "markdown",
   "id": "c866c651",
   "metadata": {},
   "source": [
    "# Prepare dictionary"
   ]
  },
  {
   "cell_type": "markdown",
   "id": "78653efa",
   "metadata": {},
   "source": [
    "### Currency dictionary"
   ]
  },
  {
   "cell_type": "code",
   "execution_count": 5,
   "id": "f307646d",
   "metadata": {},
   "outputs": [],
   "source": [
    "# Define the index to currency mapping\n",
    "currency_index = {\n",
    "    0: 'BTC', 1: 'USD', 2: 'LTC', 3: 'ETH', 4: 'ETC', 5: 'USDT', 6: 'XMR', 7: 'BCH', 8: 'BTG', 9: 'B2X', \n",
    "    10: 'SBTC', 11: 'SGD', 12: 'CAD', 13: 'EUR', 14: 'NTD', 15: 'JPY', 16: 'GBP', 17: 'LCH', 18: 'CHF', \n",
    "    19: 'ZEC', 20: 'ADA', 21: 'MYR', 22: 'DAI', 23: 'XSGD', 24: 'XIDR'}"
   ]
  },
  {
   "cell_type": "markdown",
   "id": "17b7eeb3",
   "metadata": {},
   "source": [
    "### Currency_pair dictionary"
   ]
  },
  {
   "cell_type": "code",
   "execution_count": 6,
   "id": "520c7c87",
   "metadata": {},
   "outputs": [
    {
     "name": "stdout",
     "output_type": "stream",
     "text": [
      "{1: 'LTCBTC', 2: 'ETHBTC', 3: 'ETCBTC', 490569: 'ETHLTC', 490588: 'ETCLTC', 490589: 'BTCUSDT', 490590: 'LTCUSDT', 490591: 'ETHUSDT', 490592: 'ETCUSDT', 852382: 'XMRUSDT', 852383: 'XMRBTC', 852384: 'XMRLTC', 1111976: 'ZECUSDT', 1111977: 'ZECBTC', 1111978: 'ZECLTC', 1801843: 'BTCCAD', 1801844: 'LTCCAD', 1801845: 'ETHCAD', 1885998: 'ZECCAD', 2372505: 'BTCXSGD', 2372506: 'LTCXSGD', 2372507: 'ETHXSGD', 2372508: 'USDTXSGD', 2372510: 'DAIXSGD', 2372511: 'ETCXSGD', 2372512: 'BTCXIDR'}\n"
     ]
    }
   ],
   "source": [
    "# API endpoint URL\n",
    "url = 'https://api.coinut.com/spot'\n",
    "\n",
    "# Send a GET request to the API\n",
    "response = requests.get(url)\n",
    "\n",
    "# Check if the request was successful (status code 200)\n",
    "if response.status_code == 200:\n",
    "    # Get the JSON data from the response\n",
    "    data = response.json()\n",
    "    \n",
    "# Initialize an empty dictionary to store the values\n",
    "pair_dic = {}\n",
    "\n",
    "# Iterate over the data\n",
    "for item in data:\n",
    "    asset = item['asset']\n",
    "    inst_id = item['inst_id']\n",
    "    \n",
    "    # Add the values to the dictionary with asset as the key\n",
    "    pair_dic[inst_id] = asset\n",
    "\n",
    "# Print the result\n",
    "print(pair_dic)"
   ]
  },
  {
   "cell_type": "markdown",
   "id": "45bf0d66",
   "metadata": {},
   "source": [
    "### Daily_price dictionary"
   ]
  },
  {
   "cell_type": "code",
   "execution_count": 7,
   "id": "28867a7f",
   "metadata": {
    "scrolled": true
   },
   "outputs": [],
   "source": [
    "daily_price_dict={}\n",
    "\n",
    "mysql_cursor.execute(\"SELECT * FROM price\")\n",
    "rows = mysql_cursor.fetchall()\n",
    "columns = [column[0] for column in mysql_cursor.description]\n",
    "\n",
    "for row in rows:\n",
    "    row_dict = dict(zip(columns, row))\n",
    "    date = row_dict['time'].strftime('%Y-%m-%d')\n",
    "    daily_price_dict[date] = {currency: row_dict[currency] for currency in columns if currency != 'time'}"
   ]
  },
  {
   "cell_type": "markdown",
   "id": "f4a1a735",
   "metadata": {},
   "source": [
    "## Transaction Paires Analysis"
   ]
  },
  {
   "cell_type": "code",
   "execution_count": 8,
   "id": "2aea9966",
   "metadata": {
    "scrolled": true
   },
   "outputs": [
    {
     "name": "stdout",
     "output_type": "stream",
     "text": [
      "Pair: LTCBTC, Count: 1241, LTC: 739.19, BTC: 2.24, Total SGD: 69789.48\n",
      "Pair: LTCUSDT, Count: 63237, LTC: 23915.26, USDT: 1569842.06, Total SGD: 1578911.09\n",
      "Pair: ETHXSGD, Count: 1323, ETH: 331.84, XSGD: 859274.85, Total SGD: 628359.16\n",
      "Pair: BTCXSGD, Count: 2778, BTC: 36.08, XSGD: 1340458.01, Total SGD: 1040119.10\n",
      "Pair: ZECLTC, Count: 1170, ZEC: 6.50, LTC: 7.89, Total SGD: 746.43\n",
      "Pair: ETHLTC, Count: 782, ETH: 2.11, LTC: 48.66, Total SGD: 4995.18\n",
      "Pair: ETCLTC, Count: 11890, ETC: 283.93, LTC: 82.32, Total SGD: 6205.93\n",
      "Pair: XMRUSDT, Count: 3375, XMR: 216.16, USDT: 41943.87, Total SGD: 41835.84\n",
      "Pair: USDTXSGD, Count: 4522, USDT: 3718059.37, XSGD: 5056328.39, Total SGD: 3718059.37\n",
      "Pair: LTCXSGD, Count: 779, LTC: 1787.02, XSGD: 203744.84, Total SGD: 149514.09\n",
      "Pair: ETHUSDT, Count: 5122, ETH: 318.73, USDT: 865657.62, Total SGD: 865165.51\n",
      "Pair: ZECUSDT, Count: 2111, ZEC: 283.12, USDT: 34812.82, Total SGD: 35002.04\n",
      "Pair: ETCUSDT, Count: 3340, ETC: 3211.60, USDT: 81117.41, Total SGD: 80903.83\n",
      "Pair: BTCUSDT, Count: 3844, BTC: 31.02, USDT: 746222.88, Total SGD: 743347.58\n",
      "Pair: ETHBTC, Count: 124, ETH: 18.27, BTC: 1.26, Total SGD: 26970.36\n",
      "Pair: DAIXSGD, Count: 133, DAI: 32348.92, XSGD: 43986.34, Total SGD: 32348.92\n",
      "Pair: ETCXSGD, Count: 381, ETC: 6705.82, XSGD: 330100.90, Total SGD: 236951.95\n",
      "Pair: XMRLTC, Count: 403, XMR: 3.90, LTC: 9.69, Total SGD: 972.60\n",
      "Pair: XMRBTC, Count: 26, XMR: 0.87, BTC: 0.01, Total SGD: 131.32\n",
      "Pair: ETCBTC, Count: 164, ETC: 238.18, BTC: 0.17, Total SGD: 4760.34\n",
      "Pair: ZECBTC, Count: 41, ZEC: 6.27, BTC: 0.02, Total SGD: 461.70\n",
      "Pair: BTCXIDR, Count: 389, BTC: 6.74, XIDR: 1825824370.60, Total SGD: 112525.30\n",
      "Total transactions processed: 107175\n"
     ]
    }
   ],
   "source": [
    "# Initialize a dictionary to store the counts and amounts\n",
    "transaction_details = {}\n",
    "transaction_totals = {}  # Stores total transaction value in SGD for each pair\n",
    "\n",
    "# Initialize transaction counter\n",
    "transaction_counter = 0\n",
    "\n",
    "# Iterate over the transactions\n",
    "for transaction in data1:\n",
    "    inst_id = transaction['matchedOrder']['instId']\n",
    "    pair = pair_dic.get(inst_id, None)\n",
    "    \n",
    "    if pair:\n",
    "        # Split the currency pair\n",
    "        split_idx = len(pair) // 2 if len(pair) % 2 == 0 else 3\n",
    "        first_currency, second_currency = pair[:split_idx], pair[split_idx:]\n",
    "\n",
    "        # Calculate the amounts\n",
    "        first_currency_amount = float(transaction['fillQty'])\n",
    "        second_currency_amount = float(transaction['fillPrice']) * float(transaction['fillQty'])\n",
    "\n",
    "        # If the pair is not yet in the dictionary, add it with the count and amounts\n",
    "        if pair not in transaction_details:\n",
    "            transaction_details[pair] = {'Count': 1, first_currency: first_currency_amount, second_currency: second_currency_amount}\n",
    "        else:\n",
    "            # If the pair is already in the dictionary, increment the count and add the amounts\n",
    "            transaction_details[pair]['Count'] += 1\n",
    "            transaction_details[pair][first_currency] += first_currency_amount\n",
    "            transaction_details[pair][second_currency] += second_currency_amount\n",
    "            \n",
    "\n",
    "        # Convert timestamp to datetime format\n",
    "        timestamp = transaction['timestamp']\n",
    "        dt = datetime.utcfromtimestamp(int(timestamp) / 1e6).strftime('%Y-%m-%d %H:%M:%S.%f')\n",
    "        dt_date = dt.split()[0]  # get the date part\n",
    "        \n",
    "        # Initialize fill_qty and base_currency_price\n",
    "        fill_qty = 0\n",
    "        base_currency_price = 0\n",
    "\n",
    "        # Check if we have price data for this date\n",
    "        if dt_date in daily_price_dict and first_currency in daily_price_dict[dt_date]:\n",
    "            base_currency_price = daily_price_dict[dt_date][first_currency]\n",
    "            fill_qty = first_currency_amount  # Using first_currency_amount instead of getting from transaction again\n",
    "\n",
    "        # Calculate the transaction value in SGD\n",
    "        transaction_value_sgd = fill_qty * float(base_currency_price)\n",
    "\n",
    "        # Add the transaction value to the transaction document\n",
    "        transaction['transaction_value_sgd'] = transaction_value_sgd\n",
    "        \n",
    "        # Increment transaction counter\n",
    "        transaction_counter += 1\n",
    "        \n",
    "        # Update the total for the pair\n",
    "        if pair in transaction_totals:\n",
    "            transaction_totals[pair] += transaction_value_sgd\n",
    "        else:\n",
    "            transaction_totals[pair] = transaction_value_sgd\n",
    "\n",
    "\n",
    " # Print the transaction details\n",
    "for pair, details in transaction_details.items():\n",
    "    # Get the currency names from the pair\n",
    "    split_idx = len(pair) // 2 if len(pair) % 2 == 0 else 3\n",
    "    first_currency, second_currency = pair[:split_idx], pair[split_idx:]\n",
    "        \n",
    "    print(f'Pair: {pair}, Count: {details[\"Count\"]}, {first_currency}: {details[first_currency]:.2f}, {second_currency}: {details[second_currency]:.2f}, Total SGD: {transaction_totals[pair]:.2f}')\n",
    "\n",
    "# Print the transaction counter\n",
    "print(f'Total transactions processed: {transaction_counter}')"
   ]
  }
 ],
 "metadata": {
  "kernelspec": {
   "display_name": "Python 3 (ipykernel)",
   "language": "python",
   "name": "python3"
  },
  "language_info": {
   "codemirror_mode": {
    "name": "ipython",
    "version": 3
   },
   "file_extension": ".py",
   "mimetype": "text/x-python",
   "name": "python",
   "nbconvert_exporter": "python",
   "pygments_lexer": "ipython3",
   "version": "3.9.13"
  }
 },
 "nbformat": 4,
 "nbformat_minor": 5
}
