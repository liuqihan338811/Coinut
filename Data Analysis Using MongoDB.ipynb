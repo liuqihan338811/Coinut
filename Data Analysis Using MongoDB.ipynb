{
 "cells": [
  {
   "cell_type": "code",
   "execution_count": 1,
   "id": "4dbb3d07",
   "metadata": {},
   "outputs": [],
   "source": [
    "import numpy as np\n",
    "import pandas as pd"
   ]
  },
  {
   "cell_type": "markdown",
   "id": "87b5eccf",
   "metadata": {},
   "source": [
    "# Data Analysis Using MongoDB"
   ]
  },
  {
   "cell_type": "markdown",
   "id": "250d6b2a",
   "metadata": {},
   "source": [
    "## Connect to MongoDB Database"
   ]
  },
  {
   "cell_type": "code",
   "execution_count": 2,
   "id": "6386d06f",
   "metadata": {},
   "outputs": [],
   "source": [
    "from pymongo import MongoClient\n",
    "\n",
    "# Create a client\n",
    "transaction = MongoClient('mongodb://localhost:27017/')\n",
    "\n",
    "# Connect to your database\n",
    "db = transaction['Coinut']"
   ]
  },
  {
   "cell_type": "markdown",
   "id": "53f90d39",
   "metadata": {},
   "source": [
    "## Fetch Data"
   ]
  },
  {
   "cell_type": "code",
   "execution_count": 3,
   "id": "a830e806",
   "metadata": {},
   "outputs": [],
   "source": [
    "# Select the collection from the database\n",
    "collection = db['transaction']\n",
    "\n",
    "# Fetch all doc data\n",
    "data1 = collection.find()"
   ]
  },
  {
   "cell_type": "code",
   "execution_count": 4,
   "id": "f307646d",
   "metadata": {},
   "outputs": [],
   "source": [
    "# Define the index to currency mapping\n",
    "currency_index = {\n",
    "    0: 'BTC', 1: 'USD', 2: 'LTC', 3: 'ETH', 4: 'ETC', 5: 'USDT', 6: 'XMR', 7: 'BCH', 8: 'BTG', 9: 'B2X', \n",
    "    10: 'SBTC', 11: 'SGD', 12: 'CAD', 13: 'EUR', 14: 'NTD', 15: 'JPY', 16: 'GBP', 17: 'LCH', 18: 'CHF', \n",
    "    19: 'ZEC', 20: 'ADA', 21: 'MYR', 22: 'DAI', 23: 'XSGD', 24: 'XIDR'}"
   ]
  },
  {
   "cell_type": "markdown",
   "id": "f4a1a735",
   "metadata": {},
   "source": [
    "## Calculate Transaction Paires and amount"
   ]
  },
  {
   "cell_type": "code",
   "execution_count": 5,
   "id": "f0622854",
   "metadata": {
    "scrolled": true
   },
   "outputs": [
    {
     "name": "stdout",
     "output_type": "stream",
     "text": [
      "[{'asset': 'LTCBTC', 'high24': '0.00301000', 'highest_buy': '0.00295000', 'inst_id': 1, 'last': '0.00301000', 'low24': '0.00299000', 'lowest_sell': '0.00296000', 'prev_trans_id': 33173893127, 'price_change_24': '0.00668896', 'timestamp': 1686543566315212, 'trans_id': 33173906306, 'volume': '592480.14428643', 'volume24': '0.16500000', 'volume24_quote': '0.00049499', 'volume_quote': '8351.41267832'}, {'asset': 'ETHBTC', 'high24': '0.06852000', 'highest_buy': '0.06722000', 'inst_id': 2, 'last': '0.06852000', 'low24': '0.06852000', 'lowest_sell': '0.06739000', 'prev_trans_id': 33173883404, 'price_change_24': '0', 'timestamp': 1686543505217517, 'trans_id': 33173883408, 'volume': '42684.85627851', 'volume24': '0.06000000', 'volume24_quote': '0.00411120', 'volume_quote': '2186.65571762'}, {'asset': 'ETCBTC', 'high24': '0.00072100', 'highest_buy': '0.00057700', 'inst_id': 3, 'last': '0.00071800', 'low24': '0.00071800', 'lowest_sell': '0.00058000', 'prev_trans_id': 33173884917, 'price_change_24': '0', 'timestamp': 1686543508620614, 'trans_id': 33173884920, 'volume': '1301582.27966137', 'volume24': '108.55000000', 'volume24_quote': '0.07809937', 'volume_quote': '2914.66815178'}, {'asset': 'ETHLTC', 'high24': '21.60000000', 'highest_buy': '21.63900000', 'inst_id': 490569, 'last': '21.60000000', 'low24': '21.60000000', 'lowest_sell': '23.41800000', 'prev_trans_id': 33173907725, 'price_change_24': '0', 'timestamp': 1686543570099026, 'trans_id': 33173907728, 'volume': '104902.58604496', 'volume24': '0.00009000', 'volume24_quote': '0.00194400', 'volume_quote': '383156.35657614'}, {'asset': 'ETCLTC', 'high24': '0.19380000', 'highest_buy': '0.18690000', 'inst_id': 490588, 'last': '0.19380000', 'low24': '0.19380000', 'lowest_sell': '0.20210000', 'prev_trans_id': 33173907437, 'price_change_24': '0', 'timestamp': 1686543569396357, 'trans_id': 33173907439, 'volume': '903255.19995637', 'volume24': '13.20950000', 'volume24_quote': '2.56000110', 'volume_quote': '200709.08926100'}, {'asset': 'BTCUSDT', 'high24': '25928.59000000', 'highest_buy': '25809.99000000', 'inst_id': 490589, 'last': '25928.59000000', 'low24': '25787.60000000', 'lowest_sell': '25817.04000000', 'prev_trans_id': 33173907672, 'price_change_24': '0.00312521', 'timestamp': 1686543569908564, 'trans_id': 33173907675, 'volume': '15889.79288536', 'volume24': '0.00138200', 'volume24_quote': '35.77622049', 'volume_quote': '117741674.57575149'}, {'asset': 'LTCUSDT', 'high24': '78.29000000', 'highest_buy': '76.18000000', 'inst_id': 490590, 'last': '76.12000000', 'low24': '76.12000000', 'lowest_sell': '76.33000000', 'prev_trans_id': 33173906826, 'price_change_24': '-0.02771746', 'timestamp': 1686543569584927, 'trans_id': 33173907505, 'volume': '1085657.59208549', 'volume24': '0.16348600', 'volume24_quote': '12.69632626', 'volume_quote': '119143211.28545470'}, {'asset': 'ETHUSDT', 'high24': '1845.75000000', 'highest_buy': '1736.54000000', 'inst_id': 490591, 'last': '1840.24000000', 'low24': '1840.24000000', 'lowest_sell': '1739.91000000', 'prev_trans_id': 33173907329, 'price_change_24': '-0.00298523', 'timestamp': 1686543569897199, 'trans_id': 33173907652, 'volume': '88680.62370275', 'volume24': '0.00946100', 'volume24_quote': '17.43700823', 'volume_quote': '49157896.81227752'}, {'asset': 'ETCUSDT', 'high24': '15.01000000', 'highest_buy': '14.92000000', 'inst_id': 490592, 'last': '15.01000000', 'low24': '14.40000000', 'lowest_sell': '14.97000000', 'prev_trans_id': 33173905170, 'price_change_24': '0.04236111', 'timestamp': 1686543563321272, 'trans_id': 33173905173, 'volume': '2041602.71314514', 'volume24': '0.41029000', 'volume24_quote': '6.15646308', 'volume_quote': '38401392.72196440'}, {'asset': 'XMRUSDT', 'high24': '155.23000000', 'highest_buy': '135.69000000', 'inst_id': 852382, 'last': '155.23000000', 'low24': '155.23000000', 'lowest_sell': '136.01000000', 'prev_trans_id': 33173907001, 'price_change_24': '0', 'timestamp': 1686543568356906, 'trans_id': 33173907009, 'volume': '153593.23028882', 'volume24': '0.00000500', 'volume24_quote': '0.00077615', 'volume_quote': '15120347.55837559'}, {'asset': 'XMRBTC', 'high24': '0.00682000', 'highest_buy': '0.00525000', 'inst_id': 852383, 'last': '0.00682000', 'low24': '0.00682000', 'lowest_sell': '0.00527000', 'prev_trans_id': 33173844537, 'price_change_24': '0', 'timestamp': 1686543420313061, 'trans_id': 33173861781, 'volume': '23449.88035326', 'volume24': '0.23900000', 'volume24_quote': '0.00162998', 'volume_quote': '205.43530378'}, {'asset': 'XMRLTC', 'high24': '1.64500000', 'highest_buy': '1.77400000', 'inst_id': 852384, 'last': '1.64500000', 'low24': '1.64500000', 'lowest_sell': '1.83200000', 'prev_trans_id': 33173907540, 'price_change_24': '0', 'timestamp': 1686543569997681, 'trans_id': 33173907692, 'volume': '24120.23054514', 'volume24': '0.00851000', 'volume24_quote': '0.01399895', 'volume_quote': '24481.24095337'}, {'asset': 'ZECUSDT', 'high24': '29.13000000', 'highest_buy': '24.28000000', 'inst_id': 1111976, 'last': '25', 'low24': '25', 'lowest_sell': '24.42000000', 'prev_trans_id': 33173687849, 'price_change_24': '-0.14177823', 'timestamp': 1686542946326859, 'trans_id': 33173688370, 'volume': '168167.40266948', 'volume24': '0.90141700', 'volume24_quote': '26.14317638', 'volume_quote': '15838151.76832696'}, {'asset': 'ZECBTC', 'high24': '0.00206000', 'highest_buy': '0.00094000', 'inst_id': 1111977, 'last': '0.00206000', 'low24': '0.00206000', 'lowest_sell': '0.00095000', 'prev_trans_id': 33173675270, 'price_change_24': '0', 'timestamp': 1686542945913661, 'trans_id': 33173688127, 'volume': '29770.37722788', 'volume24': '0.00200000', 'volume24_quote': '0.00000412', 'volume_quote': '219.28591512'}, {'asset': 'ZECLTC', 'high24': '0.32700000', 'highest_buy': '0.31700000', 'inst_id': 1111978, 'last': '0.32700000', 'low24': '0.32700000', 'lowest_sell': '0.33000000', 'prev_trans_id': 33173907462, 'price_change_24': '0', 'timestamp': 1686543569484605, 'trans_id': 33173907465, 'volume': '34105.98357309', 'volume24': '0.00232000', 'volume24_quote': '0.00075864', 'volume_quote': '30108.82356371'}, {'asset': 'BTCCAD', 'high24': '9698.10000000', 'highest_buy': '0', 'inst_id': 1801843, 'last': '9698.10000000', 'low24': '9698.10000000', 'lowest_sell': '0', 'prev_trans_id': 0, 'price_change_24': '0', 'timestamp': 1685542580027092, 'trans_id': 32856992425, 'volume': '136.37721063', 'volume24': '0.00320000', 'volume24_quote': '31.03392000', 'volume_quote': '868958.29494790'}, {'asset': 'LTCCAD', 'high24': '76.12000000', 'highest_buy': '0', 'inst_id': 1801844, 'last': '76.12000000', 'low24': '76.12000000', 'lowest_sell': '0', 'prev_trans_id': 0, 'price_change_24': '0', 'timestamp': 1685542580027092, 'trans_id': 32856992427, 'volume': '1794.15282408', 'volume24': '0.00570400', 'volume24_quote': '0.43418848', 'volume_quote': '138100.63784688'}, {'asset': 'ETHCAD', 'high24': '248.04000000', 'highest_buy': '0', 'inst_id': 1801845, 'last': '241.70000000', 'low24': '241.16000000', 'lowest_sell': '0', 'prev_trans_id': 0, 'price_change_24': '-0.02351325', 'timestamp': 1685542580027092, 'trans_id': 32856992429, 'volume': '623.54850270', 'volume24': '2.33233825', 'volume24_quote': '568.73902121', 'volume_quote': '140021.18169391'}, {'asset': 'ZECCAD', 'high24': '80.47000000', 'highest_buy': '0', 'inst_id': 1885998, 'last': '80.47000000', 'low24': '80.47000000', 'lowest_sell': '0', 'prev_trans_id': 0, 'price_change_24': '0', 'timestamp': 1685542580027092, 'trans_id': 32856992431, 'volume': '1859.06797685', 'volume24': '0.00537100', 'volume24_quote': '0.43220437', 'volume_quote': '176529.68479730'}, {'asset': 'BTCXSGD', 'high24': '36273.93000000', 'highest_buy': '34646.33000000', 'inst_id': 2372505, 'last': '34400', 'low24': '34400', 'lowest_sell': '34708', 'prev_trans_id': 33173907644, 'price_change_24': '-0.05166051', 'timestamp': 1686543569897199, 'trans_id': 33173907647, 'volume': '56.94220700', 'volume24': '0.03144000', 'volume24_quote': '1134.83056920', 'volume_quote': '2686678.59111319'}, {'asset': 'LTCXSGD', 'high24': '103.91000000', 'highest_buy': '102.30000000', 'inst_id': 2372506, 'last': '103.91000000', 'low24': '103', 'lowest_sell': '102.61000000', 'prev_trans_id': 33173906312, 'price_change_24': '0.00883495', 'timestamp': 1686543568356906, 'trans_id': 33173907027, 'volume': '2793.43211500', 'volume24': '3.99500000', 'volume24_quote': '415.01580000', 'volume_quote': '439145.62831794'}, {'asset': 'ETHXSGD', 'high24': '2355.09000000', 'highest_buy': '2331.84000000', 'inst_id': 2372507, 'last': '2355.09000000', 'low24': '2343.22000000', 'lowest_sell': '2339.10000000', 'prev_trans_id': 33173906296, 'price_change_24': '0.00506567', 'timestamp': 1686543566315212, 'trans_id': 33173906299, 'volume': '554.38513500', 'volume24': '0.82790000', 'volume24_quote': '1948.77582982', 'volume_quote': '1889568.32157686'}, {'asset': 'USDTXSGD', 'high24': '1.34200000', 'highest_buy': '1.34200000', 'inst_id': 2372508, 'last': '1.34200000', 'low24': '1.34200000', 'lowest_sell': '1.34600000', 'prev_trans_id': 33173842573, 'price_change_24': '0', 'timestamp': 1686543553902876, 'trans_id': 33173901746, 'volume': '4437959.24946000', 'volume24': '0.40700000', 'volume24_quote': '0.54619400', 'volume_quote': '6029424.35639524'}, {'asset': 'DAIXSGD', 'high24': '1.54600000', 'highest_buy': '1.13100000', 'inst_id': 2372510, 'last': '1.54600000', 'low24': '1.54600000', 'lowest_sell': '1.55700000', 'prev_trans_id': 33173846284, 'price_change_24': '0', 'timestamp': 1686543377944940, 'trans_id': 33173846289, 'volume': '37254.31827000', 'volume24': '0.10198000', 'volume24_quote': '0.15766108', 'volume_quote': '50572.29401887'}, {'asset': 'ETCXSGD', 'high24': '20', 'highest_buy': '20.04000000', 'inst_id': 2372511, 'last': '19.62000000', 'low24': '19.62000000', 'lowest_sell': '20.12000000', 'prev_trans_id': 33173905210, 'price_change_24': '-0.01900000', 'timestamp': 1686543563432984, 'trans_id': 33173905219, 'volume': '8990.30574400', 'volume24': '4.30000000', 'volume24_quote': '84.48000000', 'volume_quote': '495725.64310922'}, {'asset': 'BTCXIDR', 'high24': '402297195.10000000', 'highest_buy': '1906060', 'inst_id': 2372512, 'last': '402297195.10000000', 'low24': '402297195.10000000', 'lowest_sell': '383857263.10000000', 'prev_trans_id': 33173907383, 'price_change_24': '0', 'timestamp': 1686543569381724, 'trans_id': 33173907394, 'volume': '6.74269870', 'volume24': '0.00000210', 'volume24_quote': '844.82410971', 'volume_quote': '1825825215.42425706'}]\n"
     ]
    }
   ],
   "source": [
    "import requests\n",
    "\n",
    "# API endpoint URL\n",
    "url = 'https://api.coinut.com/spot'\n",
    "\n",
    "# Send a GET request to the API\n",
    "response = requests.get(url)\n",
    "\n",
    "# Check if the request was successful (status code 200)\n",
    "if response.status_code == 200:\n",
    "    # Get the JSON data from the response\n",
    "    data = response.json()\n",
    "    \n",
    "    # Process the data as needed\n",
    "    print(data)\n",
    "else:\n",
    "    # If the request was not successful, print the status code and error message\n",
    "    print(f\"Request failed with status code {response.status_code}: {response.text}\")"
   ]
  },
  {
   "cell_type": "code",
   "execution_count": 6,
   "id": "585bb223",
   "metadata": {},
   "outputs": [
    {
     "name": "stdout",
     "output_type": "stream",
     "text": [
      "{'LTCBTC': 1, 'ETHBTC': 2, 'ETCBTC': 3, 'ETHLTC': 490569, 'ETCLTC': 490588, 'BTCUSDT': 490589, 'LTCUSDT': 490590, 'ETHUSDT': 490591, 'ETCUSDT': 490592, 'XMRUSDT': 852382, 'XMRBTC': 852383, 'XMRLTC': 852384, 'ZECUSDT': 1111976, 'ZECBTC': 1111977, 'ZECLTC': 1111978, 'BTCCAD': 1801843, 'LTCCAD': 1801844, 'ETHCAD': 1801845, 'ZECCAD': 1885998, 'BTCXSGD': 2372505, 'LTCXSGD': 2372506, 'ETHXSGD': 2372507, 'USDTXSGD': 2372508, 'DAIXSGD': 2372510, 'ETCXSGD': 2372511, 'BTCXIDR': 2372512}\n"
     ]
    }
   ],
   "source": [
    "# Initialize an empty dictionary to store the values\n",
    "pair_dic = {}\n",
    "\n",
    "# Iterate over the data\n",
    "for item in data:\n",
    "    asset = item['asset']\n",
    "    inst_id = item['inst_id']\n",
    "    \n",
    "    # Add the values to the dictionary with asset as the key\n",
    "    pair_dic[asset] = inst_id\n",
    "\n",
    "# Print the result\n",
    "print(pair_dic)"
   ]
  },
  {
   "cell_type": "code",
   "execution_count": 7,
   "id": "2aea9966",
   "metadata": {
    "scrolled": true
   },
   "outputs": [
    {
     "name": "stdout",
     "output_type": "stream",
     "text": [
      "Pair: LTCBTC, Count: 1241, LTC: 739.19, BTC: 2.24\n",
      "Pair: LTCUSDT, Count: 63237, LTC: 23915.26, USDT: 1569842.06\n",
      "Pair: ETHXSGD, Count: 1323, ETH: 331.84, XSGD: 859274.85\n",
      "Pair: BTCXSGD, Count: 2778, BTC: 36.08, XSGD: 1340458.01\n",
      "Pair: ZECLTC, Count: 1170, ZEC: 6.50, LTC: 7.89\n",
      "Pair: ETHLTC, Count: 782, ETH: 2.11, LTC: 48.66\n",
      "Pair: ETCLTC, Count: 11890, ETC: 283.93, LTC: 82.32\n",
      "Pair: XMRUSDT, Count: 3375, XMR: 216.16, USDT: 41943.87\n",
      "Pair: USDTXSGD, Count: 4522, USDT: 3718059.37, XSGD: 5056328.39\n",
      "Pair: LTCXSGD, Count: 779, LTC: 1787.02, XSGD: 203744.84\n",
      "Pair: ETHUSDT, Count: 5122, ETH: 318.73, USDT: 865657.62\n",
      "Pair: ZECUSDT, Count: 2111, ZEC: 283.12, USDT: 34812.82\n",
      "Pair: ETCUSDT, Count: 3340, ETC: 3211.60, USDT: 81117.41\n",
      "Pair: BTCUSDT, Count: 3844, BTC: 31.02, USDT: 746222.88\n",
      "Pair: ETHBTC, Count: 124, ETH: 18.27, BTC: 1.26\n",
      "Pair: DAIXSGD, Count: 133, DAI: 32348.92, XSGD: 43986.34\n",
      "Pair: ETCXSGD, Count: 381, ETC: 6705.82, XSGD: 330100.90\n",
      "Pair: XMRLTC, Count: 403, XMR: 3.90, LTC: 9.69\n",
      "Pair: XMRBTC, Count: 26, XMR: 0.87, BTC: 0.01\n",
      "Pair: ETCBTC, Count: 164, ETC: 238.18, BTC: 0.17\n",
      "Pair: ZECBTC, Count: 41, ZEC: 6.27, BTC: 0.02\n",
      "Pair: BTCXIDR, Count: 389, BTC: 6.74, XIDR: 1825824370.60\n"
     ]
    }
   ],
   "source": [
    "# Initialize a dictionary to store the counts and amounts\n",
    "transaction_details = {}\n",
    "\n",
    "# Iterate over the transactions\n",
    "for transaction in data1:\n",
    "    inst_id = transaction['matchedOrder']['instId']\n",
    "    pair = next((pair_name for pair_name, id_value in pair_dic.items() if id_value == inst_id), None)\n",
    "    \n",
    "    if pair:\n",
    "        # Split the currency pair\n",
    "        if len(pair) == 6:\n",
    "            first_currency, second_currency = pair[:3], pair[3:]\n",
    "        elif len(pair) == 7:\n",
    "            first_currency, second_currency = pair[:3], pair[3:]\n",
    "        elif len(pair) == 8:\n",
    "            first_currency, second_currency = pair[:4], pair[4:]\n",
    "\n",
    "        # Calculate the amounts\n",
    "        first_currency_amount = float(transaction['fillQty'])\n",
    "        second_currency_amount = float(transaction['fillPrice']) * float(transaction['fillQty'])\n",
    "\n",
    "        # If the pair is not yet in the dictionary, add it with the count and amounts\n",
    "        if pair not in transaction_details:\n",
    "            transaction_details[pair] = {'Count': 1, first_currency: first_currency_amount, second_currency: second_currency_amount}\n",
    "        else:\n",
    "            # If the pair is already in the dictionary, increment the count and add the amounts\n",
    "            transaction_details[pair]['Count'] += 1\n",
    "            transaction_details[pair][first_currency] += first_currency_amount\n",
    "            transaction_details[pair][second_currency] += second_currency_amount\n",
    "\n",
    "# Print the transaction details\n",
    "for pair, details in transaction_details.items():\n",
    "    # Get the currency names from the pair\n",
    "    if len(pair) == 6:\n",
    "        first_currency, second_currency = pair[:3], pair[3:]\n",
    "    elif len(pair) == 7:\n",
    "        first_currency, second_currency = pair[:3], pair[3:]\n",
    "    elif len(pair) == 8:\n",
    "        first_currency, second_currency = pair[:4], pair[4:]\n",
    "\n",
    "    print(f'Pair: {pair}, Count: {details[\"Count\"]}, {first_currency}: {details[first_currency]:.2f}, {second_currency}: {details[second_currency]:.2f}')\n"
   ]
  },
  {
   "cell_type": "code",
   "execution_count": null,
   "id": "1544c8aa",
   "metadata": {},
   "outputs": [],
   "source": []
  }
 ],
 "metadata": {
  "kernelspec": {
   "display_name": "Python 3 (ipykernel)",
   "language": "python",
   "name": "python3"
  },
  "language_info": {
   "codemirror_mode": {
    "name": "ipython",
    "version": 3
   },
   "file_extension": ".py",
   "mimetype": "text/x-python",
   "name": "python",
   "nbconvert_exporter": "python",
   "pygments_lexer": "ipython3",
   "version": "3.9.13"
  }
 },
 "nbformat": 4,
 "nbformat_minor": 5
}
