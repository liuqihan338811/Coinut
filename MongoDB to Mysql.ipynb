{
 "cells": [
  {
   "cell_type": "code",
   "execution_count": 9,
   "id": "7272acb9",
   "metadata": {},
   "outputs": [],
   "source": [
    "from pymongo import MongoClient\n",
    "import mysql.connector\n",
    "from datetime import datetime\n",
    "import pandas as pd\n",
    "\n",
    "# MongoDB setup\n",
    "mongo_client = MongoClient('mongodb://localhost:27017/')\n",
    "mongo_db = mongo_client['Coinut']\n",
    "collection = mongo_db['transaction']\n",
    "# Fetch all doc data\n",
    "data1 = collection.find()\n",
    "\n",
    "# MySQL setup\n",
    "mysql_db = mysql.connector.connect(\n",
    "  user='root', password='liuwinq1', host='localhost', database='coinut')\n",
    "mysql_cursor = mysql_db.cursor()"
   ]
  },
  {
   "cell_type": "code",
   "execution_count": 6,
   "id": "0f7e6c06",
   "metadata": {},
   "outputs": [],
   "source": [
    "# First, let's drop the table if it already exists\n",
    "mysql_cursor.execute(\"DROP TABLE IF EXISTS Transactions\")\n",
    "\n",
    "\n",
    "# let's create the MySQL table\n",
    "mysql_cursor.execute(\"\"\"\n",
    "    CREATE TABLE Transactions (\n",
    "        transaction_id VARCHAR(255) PRIMARY KEY,\n",
    "        instId INT,\n",
    "        fill_price FLOAT,\n",
    "        fill_qty FLOAT,\n",
    "        id BIGINT,\n",
    "        makerComm_amount FLOAT,\n",
    "        makerComm_currency INT,\n",
    "        matchedOrder_clientOrdId BIGINT,\n",
    "        order_clientOrdId BIGINT,\n",
    "        takerComm_amount FLOAT,\n",
    "        takerComm_currency INT,\n",
    "        timestamp Date,\n",
    "        trans_id BIGINT,\n",
    "        type VARCHAR(255),\n",
    "        transaction_value_sgd FLOAT\n",
    "    )\n",
    "\"\"\")"
   ]
  },
  {
   "cell_type": "code",
   "execution_count": 7,
   "id": "64b882bd",
   "metadata": {},
   "outputs": [],
   "source": [
    "# Now, we iterate over the MongoDB data and insert it into MySQL\n",
    "for document in data1:\n",
    "    transaction_id = str(document['_id'])  # Convert ObjectId to string\n",
    "    instId=int(document['order']['instId'])\n",
    "    fill_price = float(document['fillPrice'])\n",
    "    fill_qty = float(document['fillQty'])\n",
    "    id = int(document['id'])\n",
    "    makerComm_amount = float(document['makerComm']['amount'])\n",
    "    makerComm_currency = int(document['makerComm']['currency'])\n",
    "    matchedOrder_clientOrdId = int(document['matchedOrder']['clientOrdId'])\n",
    "    order_clientOrdId = int(document['order']['clientOrdId'])\n",
    "    takerComm_amount = float(document['takerComm']['amount'])\n",
    "    takerComm_currency = int(document['takerComm']['currency'])\n",
    "    \n",
    "     # Convert timestamp to datetime format\n",
    "    timestamp = document['timestamp']\n",
    "    dt = datetime.utcfromtimestamp(int(timestamp) / 1e6).strftime('%Y-%m-%d %H:%M:%S.%f')\n",
    "    \n",
    "    timestamp = dt\n",
    "    trans_id = int(document['transId'])\n",
    "    type = document['type']\n",
    "    transaction_value_sgd=float(document['transaction_value_sgd'])\n",
    "\n",
    "    # Construct the INSERT query\n",
    "    query = \"\"\"\n",
    "        INSERT INTO Transactions (\n",
    "            transaction_id, instId, fill_price, fill_qty, id, makerComm_amount, \n",
    "            makerComm_currency, matchedOrder_clientOrdId, order_clientOrdId,\n",
    "            takerComm_amount, takerComm_currency, timestamp,\n",
    "            trans_id, type, transaction_value_sgd\n",
    "        ) VALUES (%s, %s, %s, %s, %s, %s, %s, %s, %s, %s, %s, %s, %s, %s,%s)\n",
    "    \"\"\"\n",
    "\n",
    "    # Execute the query\n",
    "    mysql_cursor.execute(query, (transaction_id, instId, fill_price, fill_qty, id, makerComm_amount,\n",
    "                                 makerComm_currency, matchedOrder_clientOrdId, order_clientOrdId,\n",
    "                                 takerComm_amount, takerComm_currency, timestamp,\n",
    "                                 trans_id, type,transaction_value_sgd))\n",
    "\n",
    "# Commit the changes\n",
    "mysql_db.commit()\n",
    "\n",
    "# Close the MySQL cursor and connection\n",
    "mysql_cursor.close()\n",
    "mysql_db.close()"
   ]
  },
  {
   "cell_type": "code",
   "execution_count": 17,
   "id": "539191db",
   "metadata": {},
   "outputs": [],
   "source": [
    "# First, let's drop the table if it already exists\n",
    "mysql_cursor.execute(\"DROP TABLE IF EXISTS CryptoPairs\")\n",
    "\n",
    "# Now, let's create the MySQL table\n",
    "mysql_cursor.execute(\"\"\"\n",
    "    CREATE TABLE CryptoPairs (\n",
    "        instId INT PRIMARY KEY,\n",
    "        pair_name VARCHAR(255)\n",
    "    )\n",
    "\"\"\")"
   ]
  },
  {
   "cell_type": "markdown",
   "id": "4bee1ea0",
   "metadata": {},
   "source": [
    "# Crypto_pair Table"
   ]
  },
  {
   "cell_type": "code",
   "execution_count": 18,
   "id": "100bb0c2",
   "metadata": {},
   "outputs": [],
   "source": [
    "# Dictionary\n",
    "crypto_pairs = {1: 'LTC, BTC', 2: 'ETH, BTC', 3: 'ETC, BTC', 490569: 'ETH, LTC', 490588: 'ETC, LTC', 490589: 'BTC, USDT', 490590: 'LTC, USDT', 490591: 'ETH, USDT', 490592: 'ETC, USDT', 852382: 'XMR, USDT', 852383: 'XMR, BTC', 852384: 'XMR, LTC', 1111976: 'ZEC, USDT', 1111977: 'ZEC, BTC', 1111978: 'ZEC, LTC', 1801843: 'BTC, CAD', 1801844: 'LTC, CAD', 1801845: 'ETH, CAD', 1885998: 'ZEC, CAD', 2372505: 'BTC, XSGD', 2372506: 'LTC, XSGD', 2372507: 'ETH, XSGD', 2372508: 'USDT, XSGD', 2372510: 'DAI, XSGD', 2372511: 'ETC, XSGD', 2372512: 'BTC, XIDR', 852220: 'USDT, USD', 852234: 'LTC, USD', 852379: 'BTC, USD', 852380: 'BTC, SGD', 852381: 'LTC, SGD', 899746: 'USDT, SGD', 1063804: 'ETH, SGD', 1885996: 'ZEC, USD', 1885999: 'ETH, USD', 2372503: 'ETC, SGD', 2372504: 'DAI, SGD', 2372509: 'XSGD, SGD'}\n",
    "# Now, iterate over the dictionary and insert its elements into MySQL\n",
    "for instId, pair_name in crypto_pairs.items():\n",
    "    query = \"\"\"\n",
    "        INSERT INTO CryptoPairs (instId, pair_name) \n",
    "        VALUES (%s, %s)\n",
    "    \"\"\"\n",
    "    mysql_cursor.execute(query, (instId, pair_name))\n",
    "\n",
    "# Commit the changes\n",
    "mysql_db.commit()\n",
    "\n",
    "# Close the MySQL cursor and connection\n",
    "mysql_cursor.close()\n",
    "mysql_db.close()"
   ]
  },
  {
   "cell_type": "markdown",
   "id": "83979b63",
   "metadata": {},
   "source": [
    "# Currency Table"
   ]
  },
  {
   "cell_type": "code",
   "execution_count": 12,
   "id": "422ae1cd",
   "metadata": {},
   "outputs": [],
   "source": [
    "# First, let's drop the table if it already exists\n",
    "mysql_cursor.execute(\"DROP TABLE IF EXISTS currency\")\n",
    "\n",
    "# Now, let's create the MySQL table\n",
    "mysql_cursor.execute(\"\"\"\n",
    "    CREATE TABLE currency (\n",
    "        currency_id INT PRIMARY KEY,\n",
    "        currency_name VARCHAR(255)\n",
    "    )\n",
    "\"\"\")"
   ]
  },
  {
   "cell_type": "code",
   "execution_count": 13,
   "id": "5281998a",
   "metadata": {},
   "outputs": [],
   "source": [
    "# Dictionary\n",
    "currency_index = {\n",
    "    0: 'BTC', 1: 'USD', 2: 'LTC', 3: 'ETH', 4: 'ETC', 5: 'USDT', 6: 'XMR', 7: 'BCH', 8: 'BTG', 9: 'B2X', \n",
    "    10: 'SBTC', 11: 'SGD', 12: 'CAD', 13: 'EUR', 14: 'NTD', 15: 'JPY', 16: 'GBP', 17: 'LCH', 18: 'CHF', \n",
    "    19: 'ZEC', 20: 'ADA', 21: 'MYR', 22: 'DAI', 23: 'XSGD', 24: 'XIDR'}# Now, iterate over the dictionary and insert its elements into MySQL\n",
    "\n",
    "for currency_id, currency_name in currency_index.items():\n",
    "    query = \"\"\"\n",
    "        INSERT INTO currency (currency_id, currency_name) \n",
    "        VALUES (%s, %s)\n",
    "    \"\"\"\n",
    "    mysql_cursor.execute(query, (currency_id, currency_name))\n",
    "\n",
    "# Commit the changes\n",
    "mysql_db.commit()\n",
    "\n",
    "# Close the MySQL cursor and connection\n",
    "mysql_cursor.close()\n",
    "mysql_db.close()"
   ]
  },
  {
   "cell_type": "code",
   "execution_count": null,
   "id": "bb72178a",
   "metadata": {},
   "outputs": [],
   "source": [
    "cnx = mysql.connector.connect(\n",
    "  user='root', password='liuwinq1', host='localhost', database='coinut')"
   ]
  },
  {
   "cell_type": "code",
   "execution_count": null,
   "id": "346eeeb2",
   "metadata": {},
   "outputs": [],
   "source": [
    "import pandas as pd\n",
    "from sqlalchemy import create_engine\n",
    "\n",
    "# create sqlalchemy engine\n",
    "engine = create_engine(\"mysql+mysqlconnector://{user}:{password}@{host}/{dbname}\".format(\n",
    "    user=\"root\",\n",
    "    password=\"liuwinq1\",\n",
    "    host=\"localhost\",\n",
    "    dbname=\"coinut\"\n",
    "))\n",
    "\n",
    "# replace 'username', 'password', 'hostname', 'database_name' with your actual credentials\n",
    "\n",
    "# read the data from the `price` table\n",
    "df = pd.read_sql(\"SELECT * FROM price\", engine)\n",
    "\n",
    "# convert `time` to datetime and extract date\n",
    "df['time'] = pd.to_datetime(df['time'])\n",
    "df['date'] = df['time'].dt.date\n",
    "\n",
    "# keep only the first row for each date\n",
    "df = df.groupby('date').first().reset_index()\n",
    "\n",
    "# write the DataFrame back to a new table in your MySQL database\n",
    "df.to_sql('price_transformed', engine, if_exists='replace', index=False)"
   ]
  },
  {
   "cell_type": "code",
   "execution_count": null,
   "id": "9f2cc222",
   "metadata": {},
   "outputs": [],
   "source": [
    "from datetime import datetime\n",
    "timestamp = 1640995314539072 \n",
    "dt = datetime.utcfromtimestamp(int(1640995314539072 ) / 1e6).strftime('%Y-%m-%d')\n",
    "print(dt)"
   ]
  },
  {
   "cell_type": "markdown",
   "id": "a1652e57",
   "metadata": {},
   "source": [
    "# Commision value"
   ]
  },
  {
   "cell_type": "code",
   "execution_count": 10,
   "id": "bfda6ec0",
   "metadata": {
    "scrolled": false
   },
   "outputs": [
    {
     "name": "stderr",
     "output_type": "stream",
     "text": [
      "C:\\anaconda\\lib\\site-packages\\pandas\\io\\sql.py:762: UserWarning: pandas only support SQLAlchemy connectable(engine/connection) ordatabase string URI or sqlite3 DBAPI2 connectionother DBAPI2 objects are not tested, please consider using SQLAlchemy\n",
      "  warnings.warn(\n",
      "C:\\anaconda\\lib\\site-packages\\pandas\\io\\sql.py:762: UserWarning: pandas only support SQLAlchemy connectable(engine/connection) ordatabase string URI or sqlite3 DBAPI2 connectionother DBAPI2 objects are not tested, please consider using SQLAlchemy\n",
      "  warnings.warn(\n"
     ]
    }
   ],
   "source": [
    "# Load the data from the tables into pandas DataFrames\n",
    "transactions_df = pd.read_sql('SELECT * FROM Transactions', mysql_db)\n",
    "currency_df = pd.read_sql('SELECT * FROM currency', mysql_db)\n",
    "price_transformed_df = pd.read_sql('SELECT * FROM price_transformed', mysql_db)\n",
    "\n",
    "# Map currency_id to currency_name in the transactions DataFrame\n",
    "currency_id_to_name = currency_df.set_index('currency_id')['currency_name'].to_dict()\n",
    "transactions_df['makerComm_currency_name'] = transactions_df['makerComm_currency'].map(currency_id_to_name)\n",
    "transactions_df['takerComm_currency_name'] = transactions_df['takerComm_currency'].map(currency_id_to_name)\n",
    "\n",
    "# Initialize new columns for makerComm_value and takerComm_value\n",
    "transactions_df['makerComm_value'] = 0.0\n",
    "transactions_df['takerComm_value'] = 0.0\n",
    "\n",
    "# Calculate makerComm_value and takerComm_value for each transaction\n",
    "for idx, transaction in transactions_df.iterrows():\n",
    "    maker_price = price_transformed_df.loc[price_transformed_df['date'] == transaction['timestamp'], transaction['makerComm_currency_name']].values[0]\n",
    "    taker_price = price_transformed_df.loc[price_transformed_df['date'] == transaction['timestamp'], transaction['takerComm_currency_name']].values[0]\n",
    "    transactions_df.loc[idx, 'makerComm_value'] = transaction['makerComm_amount'] * maker_price\n",
    "    transactions_df.loc[idx, 'takerComm_value'] = transaction['takerComm_amount'] * taker_price\n"
   ]
  },
  {
   "cell_type": "code",
   "execution_count": 15,
   "id": "ec1ace44",
   "metadata": {},
   "outputs": [
    {
     "name": "stdout",
     "output_type": "stream",
     "text": [
      "Column 'makerComm_value' already exists.\n",
      "Column 'takerComm_value' already exists.\n"
     ]
    }
   ],
   "source": [
    "import mysql.connector\n",
    "\n",
    "# Initialize MySQL cursor\n",
    "mysql_cursor = mysql_db.cursor()\n",
    "\n",
    "# Function to check if a column exists in a table\n",
    "def column_exists(table, column):\n",
    "    mysql_cursor.execute(f\"SHOW COLUMNS FROM {table} LIKE '{column}'\")\n",
    "    result = mysql_cursor.fetchone()\n",
    "    if result:\n",
    "        return True\n",
    "    return False\n",
    "\n",
    "# Create new columns in the Transactions table if they do not exist\n",
    "if not column_exists('Transactions', 'makerComm_value'):\n",
    "    mysql_cursor.execute(\"ALTER TABLE Transactions ADD COLUMN makerComm_value FLOAT\")\n",
    "else:\n",
    "    print(\"Column 'makerComm_value' already exists.\")\n",
    "    \n",
    "if not column_exists('Transactions', 'takerComm_value'):\n",
    "    mysql_cursor.execute(\"ALTER TABLE Transactions ADD COLUMN takerComm_value FLOAT\")\n",
    "else:\n",
    "    print(\"Column 'takerComm_value' already exists.\")\n",
    "    \n",
    "# Commit the changes\n",
    "mysql_db.commit()\n",
    "\n",
    "# Iterate through each row in the dataframe\n",
    "# Prepare a MySQL UPDATE statement to update the makerComm_value and takerComm_value columns\n",
    "query = \"\"\"\n",
    "    UPDATE Transactions SET makerComm_value = %s, takerComm_value = %s WHERE transaction_id = %s\n",
    "\"\"\"\n",
    "\n",
    "for idx, row in transactions_df.iterrows():\n",
    "    # Prepare the data for the UPDATE statement\n",
    "    data = (row['makerComm_value'], row['takerComm_value'], row['transaction_id'])\n",
    "    # Execute the UPDATE statement\n",
    "    mysql_cursor.execute(query, data)\n",
    "\n",
    "# Commit the changes\n",
    "mysql_db.commit()\n",
    "\n",
    "# Close the MySQL cursor and connection\n",
    "mysql_cursor.close()\n",
    "mysql_db.close()\n"
   ]
  }
 ],
 "metadata": {
  "kernelspec": {
   "display_name": "Python 3 (ipykernel)",
   "language": "python",
   "name": "python3"
  },
  "language_info": {
   "codemirror_mode": {
    "name": "ipython",
    "version": 3
   },
   "file_extension": ".py",
   "mimetype": "text/x-python",
   "name": "python",
   "nbconvert_exporter": "python",
   "pygments_lexer": "ipython3",
   "version": "3.9.13"
  }
 },
 "nbformat": 4,
 "nbformat_minor": 5
}
