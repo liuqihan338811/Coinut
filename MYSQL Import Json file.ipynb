{
 "cells": [
  {
   "cell_type": "code",
   "execution_count": 7,
   "id": "23ff9a16",
   "metadata": {},
   "outputs": [],
   "source": [
    "import json\n",
    "import mysql.connector\n",
    "from datetime import datetime"
   ]
  },
  {
   "cell_type": "code",
   "execution_count": 2,
   "id": "11f6ae2c",
   "metadata": {},
   "outputs": [],
   "source": [
    "# Load data from JSON file\n",
    "with open('prices.json') as f:\n",
    "    data = json.load(f)"
   ]
  },
  {
   "cell_type": "code",
   "execution_count": 3,
   "id": "f3193c25",
   "metadata": {},
   "outputs": [],
   "source": [
    "# Establish a connection to the MySQL database\n",
    "cnx = mysql.connector.connect(user='root', password='liuwinq1', host='localhost', database='coinut')"
   ]
  },
  {
   "cell_type": "code",
   "execution_count": 9,
   "id": "6775d5a9",
   "metadata": {},
   "outputs": [],
   "source": [
    "# Create a cursor object\n",
    "cursor = cnx.cursor()\n",
    "\n",
    "# Define SQL INSERT query\n",
    "add_price = (\"INSERT INTO price \"\n",
    "             \"(BTC, LTC, ETH, ETC, XMR, ZEC, USDT, USD, SGD, MYR, CAD, time, LBTC, DAI, XSGD, XIDR) \"\n",
    "             \"VALUES (%s, %s, %s, %s, %s, %s, %s, %s, %s, %s, %s, %s, %s, %s, %s, %s)\")\n",
    "\n",
    "# Insert each item in the JSON file into the database\n",
    "for item in data:\n",
    "    iso_time = item['time'][:-5]\n",
    "    datetime_obj = datetime.fromisoformat(iso_time)\n",
    "    mysql_time = datetime_obj.strftime('%Y-%m-%d %H:%M:%S')\n",
    "    # Prepare data\n",
    "    price_data = (item['BTC'], item['LTC'], item['ETH'], item['ETC'], item['XMR'], item['ZEC'], \n",
    "                  item['USDT'], item['USD'], item['SGD'], item['MYR'], item['CAD'], \n",
    "                  mysql_time, item['LBTC'], item['DAI'], item['XSGD'], item['XIDR'])\n",
    "    \n",
    "    # Execute SQL query\n",
    "    cursor.execute(add_price, price_data)\n",
    "\n",
    "# Commit the transaction\n",
    "cnx.commit()\n",
    "\n",
    "# Close cursor and connection\n",
    "cursor.close()\n",
    "cnx.close()"
   ]
  },
  {
   "cell_type": "code",
   "execution_count": 11,
   "id": "5a6f6965",
   "metadata": {},
   "outputs": [
    {
     "name": "stdout",
     "output_type": "stream",
     "text": [
      "2022-01-02 08:10:13.504256\n"
     ]
    }
   ],
   "source": [
    "import datetime\n",
    "\n",
    "timestamp_micro = int(\"1641082213504256\")\n",
    "timestamp_sec = timestamp_micro / 1e6  # convert microseconds to seconds\n",
    "\n",
    "dt_object = datetime.datetime.fromtimestamp(timestamp_sec)\n",
    "\n",
    "print(dt_object)"
   ]
  }
 ],
 "metadata": {
  "kernelspec": {
   "display_name": "Python 3 (ipykernel)",
   "language": "python",
   "name": "python3"
  },
  "language_info": {
   "codemirror_mode": {
    "name": "ipython",
    "version": 3
   },
   "file_extension": ".py",
   "mimetype": "text/x-python",
   "name": "python",
   "nbconvert_exporter": "python",
   "pygments_lexer": "ipython3",
   "version": "3.9.13"
  }
 },
 "nbformat": 4,
 "nbformat_minor": 5
}
